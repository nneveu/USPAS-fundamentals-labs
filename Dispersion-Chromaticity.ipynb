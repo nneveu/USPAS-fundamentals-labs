{
 "cells": [
  {
   "cell_type": "markdown",
   "metadata": {},
   "source": [
    "![alt text](images/uspas.png)\n",
    "# Fundamentals of Accelerator Physics and Technology \n",
    "### (with Simulations and Measurements Lab)\n",
    "# Computer Lab: Dispersion and Chromaticity in Simulated Beam Transport\n",
    "##### Author: K. Ruisard\n",
    "\n",
    "## We will be simulating beam transport in simple beamlines. To do this, we will be running the Elegant code in the [Sirepo](https://beta.sirepo.com) environment. Questions to be turned in for credit are in **bold** and numbered.\n",
    "### Python Notes: \n",
    "- You wont need much python specific code for this lab, but here are some tips:\n",
    "- Press shift+enter to execute a cell, or use the play button at the top of the window\n",
    "- Make sure you execute cells in order, or re-execute cells if you change something at the top of the notebook.\n",
    "- You can also execute the whole notebook by using 'Run all cells' under the 'Run' tab.\n",
    "\n",
    "</br>\n",
    "Also helpful: Shift+right click brings up OS/browser right-click menu, can copy image or save.\n",
    "\n",
    "----------"
   ]
  },
  {
   "cell_type": "markdown",
   "metadata": {},
   "source": [
    "## 1. Dispersion and Chromaticity\n",
    "\n",
    "### A) Dispersion in FODO lattice\n",
    "\n",
    "In other labs, we simulate beamlines without dipoles. Dipoles create dispersion ($\\eta$ or D, depending who you talk to), which describes the evolution of transverse size for particles/beams that are off-momentum. Off-momentum particles experience a different force in the dipole than the design orbit, as they have different magnetic rigidity $B\\rho=\\frac{p}{q}$. Dispersion is a function of s and can have a periodic (matched) solution, similar to the $\\beta$ and $\\alpha$ functions.\n",
    "\n",
    "The initial conditions for this simulation:\n",
    "\n",
    "| Species  | Election  |   \n",
    "|---|---| \n",
    "| Energy  | 1 GeV  |   \n",
    "|  X emittance | $\\epsilon_x = 6$ mm-mrad  |  \n",
    "|  Y emittance |  $\\epsilon_y = 6$ mm-mrad |  \n",
    "|  Quadrupole geometric strength | $K = 0.6$ m$^{-2}$|\n",
    "|  FODO cell length | $L = 5$ m|\n",
    "\n",
    "Open simulation “FODObeamline-with-dipole” \n",
    "> https://www.sirepo.com/elegant#/source/SMHkFUFD\n",
    "\n",
    "Initially, this simulation lattice is a FODO cell that is identical to the cell used in the FODO-transport lab. \n",
    "\n",
    "- Go to Visualization tab at top of the page.\n",
    "- Run simulation to run over 1 cell (make sure beamline \"FODOcell\" is selected). \n",
    "- verify that calculated solution is matched. If not, under Tab: Control -> twiss_output, Change Matched to Yes and re-run simulation. \n",
    "- Note down matched beam size (Sx and Sy in the run_setup.sigma plot) at the location of the quads QF and QD for future reference. \n",
    "\n",
    "\n",
    "Next, add a dipole element to your FODO cell: \n",
    "- Go to the 'Lattice Tab' at the top of the screen\n",
    "- Under 'Beamlines', hover over FODOcell, and click 'Edit'\n",
    "- Delete the 0.5 meter drift \"D3\" and, in its place, add the RBEN element \"DIPO\" \n",
    "- \"DIPO\" is a 20-degree dipole with rectangular geometry (as opposed to sector geometry, which is also an option).\n",
    "- Run simulation over modified FODO cell\n",
    "\n",
    "Scroll down and to the twiss_output plot.\n",
    "Observe dispersion $\\eta_x$ (etax). \n",
    "- hint: to see dispersion function at an appropriate scale, turn off $\\beta_x$ and $\\beta_y$ curves in plot edit dialog (pencil icon).\n",
    "\n",
    "Also observe the effect of dispersion in the beam moments (sigma_output) plot.  \n",
    "You should observe that Sy remains the same as before, while Sx has much larger maxima."
   ]
  },
  {
   "cell_type": "markdown",
   "metadata": {},
   "source": [
    "**Q1) What is minimum dispersion in this lattice? At what location does this occur (focusing quad, defocusing quad or drift)?\\\n",
    "If we compare this lattice to an identical FODO cell without the dipole, would the horizontal beam size at this location be larger or smaller?  \n",
    "What about the vertical beam size?**\n"
   ]
  },
  {
   "cell_type": "markdown",
   "metadata": {},
   "source": [
    "**Q2) Assuming a 0.1% momentum spread in the beam, what is the horizontal beam size we expect in the focusing quadrupole QF?\\\n",
    "How does this compare to our beam size without energy spread? \\\n",
    "What is the vertical beam size with and without energy spread?**\n",
    "\n",
    "\n",
    "hint: $\\sigma_x^2 = \\epsilon_x \\beta_x+ \\eta_{max}^2 \\left( \\frac{\\Delta p}{p_0} \\right)^2$, where $\\Delta p/p $ is the fractional momentum spread.\n",
    "\n",
    "hint: Use max eta and the $\\epsilon_x$ from above."
   ]
  },
  {
   "cell_type": "markdown",
   "metadata": {},
   "source": [
    "$\\sigma_x = $"
   ]
  },
  {
   "cell_type": "markdown",
   "metadata": {},
   "source": [
    "### B) Zero-dispersion insert\n",
    "\n",
    "Open simulation DispersionFree:\n",
    "> https://www.sirepo.com/elegant#/source/dW4biLsM\n",
    "\n",
    "The lattice cell in this simulation has two 20-degree bends and five quadrupoles.  \n",
    "The quadrupoles are initially set to zero-strength and matching is disabled.  \n",
    "- Run the simulation and observe the evolution of the dispersion $\\eta_x$ through the double bend.\n"
   ]
  },
  {
   "cell_type": "markdown",
   "metadata": {},
   "source": [
    "**Q3) What is $\\eta_x$ and $\\eta_x'$ at the end of the cell?**"
   ]
  },
  {
   "cell_type": "markdown",
   "metadata": {},
   "source": [
    "- Go to 'Lattice' at the top of the page.\n",
    "- “Turn on” the middle quadrupole (Q1) at $k_1=1\\ m^{-2}$. Note the effect this has on the dispersion function.\n",
    "- Adjust the strength of Q1 to find the solution for which dispersion is zero after the two bends.\n",
    "- Hint: you will need to restart the simulation after you change K. "
   ]
  },
  {
   "cell_type": "markdown",
   "metadata": {},
   "source": [
    "**Q4) What is the strength you found?** $k_1$ ="
   ]
  },
  {
   "cell_type": "markdown",
   "metadata": {},
   "source": [
    "Enable matching (Under the Control tab -> twiss_output command -> set “Matched” to “yes”).  \n",
    "- Run simulation; you should see that beamline is unstable, i.e. there are no periodic solutions. \n",
    "Let’s add some additional focusing to correct that.\n",
    "- “Turn on” the flanking quadrupoles by setting Q2: $k_1=1.3\\ m^{-2}$ and Q3: $k_1=-1.6\\ m^{-2}$. \n",
    "- Re-run to find matched solution.\n",
    "\n",
    "Congrats! You’ve made a double-bend achromat.  \n",
    "This is useful for light sources, where zero-dispersion drifts are used for placing radiation-generating inserts like undulators and wigglers."
   ]
  },
  {
   "cell_type": "markdown",
   "metadata": {},
   "source": [
    "### C) Tune in a ring\n",
    "\n",
    "Repeat your cell 9 times to create a ring. \n",
    "- Under the Lattice tab, make a new beamilne. \n",
    "- Fill it with DBA elements.\n",
    "- Rerun the simulation under the Visualization tab.\n",
    "- Make sure you select your new beamline from the drop down menu.\n",
    "\n",
    "**Q5) Record x and y tunes (to 3 significant figures):**\n",
    "\n",
    "Look for nux and nuy in the parameters list."
   ]
  },
  {
   "cell_type": "markdown",
   "metadata": {},
   "source": [
    "\n",
    "$\\nu_x = $   \n",
    "$\\nu_y = $"
   ]
  },
  {
   "cell_type": "markdown",
   "metadata": {},
   "source": [
    "**Q6) Did you expect the tunes to be split in the way that they are?  \n",
    "What is a nearby resonant stop-band ($\\nu =\\frac{n}{m}$ for integer m,n) that might be a concern for this lattice (for either plane x or y)?**\n",
    "\n",
    "Hint: consider only low-order resonances with m<=4 \n",
    "\n",
    "---"
   ]
  },
  {
   "cell_type": "markdown",
   "metadata": {},
   "source": [
    "Note that this lattice still has chromaticity; that is, although off-momentum particles do not increase the beam size in the dispersion-free drifts, on average they still feel different focusing strengths and have a tune different from the on-momentum particles.  "
   ]
  },
  {
   "cell_type": "markdown",
   "metadata": {},
   "source": [
    "**Q7) For a 0.1% energy spread in the beam, what is the spread of tunes due to chromaticity?**\n",
    "\n",
    "$\\Delta \\nu_x = C_x \\frac{\\Delta p}{p_0}$ (hint: in Elegant Twiss output, look for dnux/dp and dnuy/dp for chromaticity values) "
   ]
  },
  {
   "cell_type": "markdown",
   "metadata": {},
   "source": [
    "**Q14) Will this tune spread push particles onto the nearby low-order resonances identified above?**"
   ]
  }
 ],
 "metadata": {
  "kernelspec": {
   "display_name": "Python 3 (ipykernel)",
   "language": "python",
   "name": "python3"
  },
  "language_info": {
   "codemirror_mode": {
    "name": "ipython",
    "version": 3
   },
   "file_extension": ".py",
   "mimetype": "text/x-python",
   "name": "python",
   "nbconvert_exporter": "python",
   "pygments_lexer": "ipython3",
   "version": "3.9.5"
  }
 },
 "nbformat": 4,
 "nbformat_minor": 4
}
