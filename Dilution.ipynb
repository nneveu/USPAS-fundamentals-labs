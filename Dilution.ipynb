{
 "cells": [
  {
   "cell_type": "markdown",
   "metadata": {},
   "source": [
    "![alt text](images/uspas.png)\n",
    "# Fundamentals of Accelerator Physics and Technology \n",
    "### (with Simulations and Measurements Lab)\n",
    "# Computer Lab: Emittance Dilution\n",
    "##### Author: E. Harms, N. Neveu\n",
    "\n",
    "This worksheet demonstrates emittance issues related to matching.  \n",
    "Questions to be answered and turned in for grade are typeset in **Bold** Type.\n",
    "\n",
    "### Python Notes: \n",
    "- Press shift+enter to execute a cell, or use the play button at the top of the window\n",
    "- Make sure you exectue cells in order, or re-exectue cells if you change something at the top of the notebook.\n",
    "- You can also exectue the whole notebook by using 'Run all cells' under the 'Run' tab.\n",
    "- Repeated variables are appeneded with a number (1,2,3) indicating the section they belong to.\n",
    "- '2**2' represents two squared, i.e. 2^2\n",
    "- A colon (:) means all values in that dimension. i.e. array[:,2] = all rows, second column\n",
    "----------"
   ]
  },
  {
   "cell_type": "code",
   "execution_count": null,
   "metadata": {},
   "outputs": [],
   "source": [
    "%matplotlib inline"
   ]
  },
  {
   "cell_type": "markdown",
   "metadata": {},
   "source": [
    "## 1. Emittance Issues\n",
    "\n",
    "Large accelerator complexes often are composed of a chain of machines with ever-increasing final energies. It can be challenging to efficiently transfer beams from one accelerator to another while preserving the emittance. Mismatches in the $\\beta$-function, steering errors, and thin foils used to isolate vacuum between one ring and another, for example, can all be sources of emittance dilution (growth). In this exercise we look at the effect each of these can have on our particle beam.\n",
    "\n",
    "In the cells below we can evaluate the emittance growth from:\n",
    "- an injection offset $\\Delta x$ (dx)\n",
    "- a beta function mismatch, $r_{\\beta}$ (r_beta), where $r_{\\beta} \\equiv \\frac{\\Delta \\beta}{\\beta} + 1$.\n",
    "\n",
    "by looking at the behavior of N particles, 1000 for this case, over a certain number of turns, Nt. \n",
    "\n",
    "\n",
    "The first plot below displays the phase space distribution of the N particles after Nt turns. The y-axis plots $p_x = \\beta x' +\\alpha x$, and the x-axis simply displays x. The other graph displays a histogram of the particle distribution in x. Also shown are the mean value and standard deviation for x. Calculated values of the emittance increase, predicted steering mismatch, and amplitude function mismatch are found at the bottom.\n",
    "\n",
    "Let’s begin with baseline (ideal) conditions: for $\\Delta x =0$ (no position offset), $r_{\\beta}=1$ (no beta function mismatch). For Nturns = 0 record: mean xf, stdex (xf), Emittance increase, Steering Mismatch, and Amplitude function mismatch below."
   ]
  },
  {
   "cell_type": "code",
   "execution_count": null,
   "metadata": {},
   "outputs": [],
   "source": [
    "import numpy as np\n",
    "\n",
    "# Don't change these\n",
    "nu_0 = 0.288762 # Small amplitude tune\n",
    "dnu  = 0.002    # Change in tune\n",
    "\n",
    "# Change these:\n",
    "dx     = 0.0 # injection displacement error (units of sigma), initial = 0.0\n",
    "r_beta = 1.0 # injection focusing error (aspect ratio), initial = 1.0\n",
    "\n",
    "#Tracking n Particles\n",
    "N       = 1000  #number of particles: initial = 1000\n",
    "Nturns  = 0     #number of turns to track: initial = 0\n",
    "\n",
    "# Creating distribution of particles based on normal distribution\n",
    "x = np.random.normal(0, np.sqrt(r_beta), N) + dx  # initial = (0, np.sqrt(r_beta), N)\n",
    "p = np.random.normal(0, 1/np.sqrt(r_beta), N)     # initial = (0, 1/np.sqrt(r_beta), N)\n",
    "\n",
    "# x final and p final \n",
    "ri    = np.sqrt(x**2+p**2)  # Calculating r\n",
    "nu_r  = nu_0 + dnu*ri**2    # Tune dependence on amplitude \n",
    "   \n",
    "# x final \n",
    "xf = np.cos(Nturns*2*np.pi*nu_r)*x + np.sin(Nturns*2*np.pi*nu_r)*p\n",
    "# p final \n",
    "pf = -np.sin(Nturns*2*np.pi*nu_r)*x + np.cos(Nturns*2*np.pi*nu_r)*p\n",
    "\n",
    "# importing plotting library    \n",
    "import matplotlib\n",
    "from matplotlib import pyplot as plt\n",
    "#Setting resolution of plot (changes size too)\n",
    "matplotlib.rcParams['figure.dpi'] = 100 #initial = 100, Increase number for bigger plots\n",
    "\n",
    "# Plotting the data\n",
    "plt.figure(1)\n",
    "plt.plot(x,p, '.', markersize=1)\n",
    "plt.title('Initial Distribution')\n",
    "plt.xlabel('x [mm]', size=14)\n",
    "plt.ylabel('xp [mrad]', size=14)\n",
    "plt.xlim(-10,10)\n",
    "plt.ylim(-10,10)\n",
    "plt.gca().set_aspect('equal')\n",
    "plt.show()\n",
    "\n",
    "plt.figure(2)\n",
    "plt.title('Final distribution')\n",
    "plt.plot(xf, pf, '.', markersize=1)\n",
    "plt.xlabel('x [mm]', size=14)\n",
    "plt.ylabel('xp [mrad]', size=14)\n",
    "plt.xlim(-10,10)\n",
    "plt.ylim(-10,10)\n",
    "plt.gca().set_aspect('equal')\n",
    "plt.show()\n",
    "\n",
    "plt.figure(3)\n",
    "plt.title('X Final Histogram')\n",
    "plt.hist(xf, bins=10)\n",
    "plt.xlabel('x [mm]', size=14)\n",
    "plt.ylabel('Arb. Units', size=14)\n",
    "plt.xlim(-10,10)\n",
    "plt.ylim(0,400)\n",
    "plt.show()\n",
    "\n",
    "print('mean of xf', np.mean(xf))\n",
    "print('stdev of xf', np.std(xf))\n",
    "print('Emittance increase: stdev^2 of xf', np.std(xf)**2)\n",
    "print('steering mismatch', 1+0.5*dx**2)\n",
    "dbeta = r_beta -1\n",
    "print('Amplitude mismatch', 1+0.5*(dbeta**2/(1+dbeta)))"
   ]
  },
  {
   "cell_type": "markdown",
   "metadata": {},
   "source": [
    "**Q1) Set Nturns = 100. How do the ‘mean(xf)’, ‘stdev(xf)’, ‘Emittance Increase’, and the predicted values of ‘Steering Mismatch’, and ‘Amplitude function Mismatch’ compare with the Nturns = 0 case?**\n",
    "\n",
    "| Value              | Nturn = 0 | Nturn = 100          | \n",
    "|--------------------|-----------|----------------------|\n",
    "| mean($x_f$)        | .....     |   ... | \n",
    "| stdev($x_f$)       | .....     |   ... | \n",
    "| Emittance Increase | .....     |   ... | \n",
    "| Steering Mismatch  | .....     |   ... | \n",
    "| Amplitude Mismatch | .....     |   ... | "
   ]
  },
  {
   "cell_type": "markdown",
   "metadata": {},
   "source": [
    "----"
   ]
  },
  {
   "cell_type": "markdown",
   "metadata": {},
   "source": [
    "Return Nturns to 0. We will now analyze the effect of a steering (displacement) error. Set $\\Delta x = 2$ (sigma).\n",
    "\n",
    "**Q2) What values of these parameters are generated for Nturns = 0? Nturns = 100? How many turns does it take for the emittance to reach equilibrium in this situation? hint – look at the trend of how the emittance increases between 0 and 100 turns**\n",
    "\n",
    "| Value              | Nturn = 0 | Nturn = 100          | \n",
    "|--------------------|-----------|----------------------|\n",
    "| mean($x_f$)        | .....     |   ... | \n",
    "| stdev($x_f$)       | .....     |   ... | \n",
    "| Emittance Increase | .....     |   ... | \n",
    "| Steering Mismatch  | .....     |   ... | \n",
    "| Amplitude Mismatch | .....     |   ... | "
   ]
  },
  {
   "cell_type": "markdown",
   "metadata": {},
   "source": [
    "---\n",
    "Let’s repeat this for a beta function mismatch. Set $\\Delta x =0$ again. Here, the parameter $\\delta \\beta$ (dbeta) is really $\\Delta \\beta / \\beta$. So, take $r_{\\beta} = 2.0$. This makes $\\delta \\beta = 1$ which is a 100%(!) mismatch of the incoming $\\beta$ function.\n",
    "\n",
    "**Q3) What values of these parameters are generated for Nt = 0? Nt = 100?\n",
    "How many turns does it take for the emittance to reach equilibrium for\n",
    "$r_{\\beta}= 2.0$? hint – look at the trend of how the emittance increases between 0 and 100 turns**\n",
    "\n",
    "\n",
    "| Value              | Nturn = 0 | Nturn = 100          | \n",
    "|--------------------|-----------|----------------------|\n",
    "| mean($x_f$)        | .....     |   ... | \n",
    "| stdev($x_f$)       | .....     |   ... | \n",
    "| Emittance Increase | .....     |   ... | \n",
    "| Steering Mismatch  | .....     |   ... | \n",
    "| Amplitude Mismatch | .....     |   ... | \n",
    "\n",
    "\n",
    "**Q4) Which effect has the greater impact on emittance growth?**\n",
    "\n",
    "---"
   ]
  },
  {
   "cell_type": "markdown",
   "metadata": {},
   "source": [
    "It is possible to model the beam passing through a foil by modifying the x and p input parameters. Go back to the initial values; dx = 0 and r_beta =1. Replace sqrt($r_{\\beta}$) with 1 and 1/sqrt($r_{\\beta}$) with, sqrt (2), ($r_{\\beta}$ must be $> 0$) respectively.\n",
    "\n",
    "Look at the phase space distribution for Nturns = 0. The distribution appears to be ‘standing up’. When a beam passes through a foil, scattering occurs which increases the angular distribution while the beam width stays fixed. Over successive turns the distribution will tumble, finally reaching equilibrium.\n",
    "\n",
    "**Q5) What values of these parameters are generated for Nt = 0? Nt = 100?\n",
    "How many turns does it take for the emittance to reach equilibrium? same hint...**\n",
    "\n",
    "\n",
    "| Value              | Nturn = 0 | Nturn = 100          | \n",
    "|--------------------|-----------|----------------------|\n",
    "| mean($x_f$)        | .....     |   ... | \n",
    "| stdev($x_f$)       | .....     |   ... | \n",
    "| Emittance Increase | .....     |   ... | \n",
    "| Steering Mismatch  | .....     |   ... | \n",
    "| Amplitude Mismatch | .....     |   ... | "
   ]
  }
 ],
 "metadata": {
  "kernelspec": {
   "display_name": "Python 3",
   "language": "python",
   "name": "python3"
  },
  "language_info": {
   "codemirror_mode": {
    "name": "ipython",
    "version": 3
   },
   "file_extension": ".py",
   "mimetype": "text/x-python",
   "name": "python",
   "nbconvert_exporter": "python",
   "pygments_lexer": "ipython3",
   "version": "3.7.4"
  }
 },
 "nbformat": 4,
 "nbformat_minor": 4
}
